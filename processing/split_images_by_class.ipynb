{
 "cells": [
  {
   "cell_type": "code",
   "execution_count": 2,
   "metadata": {
    "cell_id": "6279f3d3cb2841148b866400b25c7b40",
    "deepnote_cell_height": 99,
    "deepnote_cell_type": "code",
    "deepnote_to_be_reexecuted": false,
    "execution_millis": 2,
    "execution_start": 1651108071958,
    "source_hash": "c76c7c51",
    "tags": []
   },
   "outputs": [],
   "source": [
    "import pandas as pd\n",
    "import numpy as np\n",
    "from tqdm import tqdm"
   ]
  },
  {
   "cell_type": "code",
   "execution_count": 4,
   "metadata": {},
   "outputs": [
    {
     "name": "stdout",
     "output_type": "stream",
     "text": [
      "['0', 'train/pid50512/study1/view1_frontal.jpg', 'Female', '68', 'Frontal', 'AP', '1.0', '', '', '', '', '', '', '', '', '-1.0', '', '', '', '1.0']\n",
      "['223412', 'train/pid25865/study1/view1_frontal.jpg', 'Female', '0', 'Frontal', 'AP', '-1.0', '', '1.0', '1.0', '', '', '', '0.0', '1.0', '-1.0', '', '', '', '-1.0']\n"
     ]
    }
   ],
   "source": [
    "INPUT_PATH = \"train.csv\"\n",
    "OUTPUT_PATH = \"train_full_nan.csv\"\n",
    "SUB_BLANK_FOR = \"\"\n",
    "REMOVE_COLUMNS_IDXS = set([0, 2, 3, 4, 5])\n",
    "\n",
    "with open(INPUT_PATH, \"r\") as file:\n",
    "    lines = file.read().split('\\n')\n",
    "\n",
    "# Skip first line, split\n",
    "lines_split = [x.split(\",\") for x in lines[1:]]\n",
    "print(lines_split[0])\n",
    "print(lines_split[-1])\n",
    "\n",
    "with open(OUTPUT_PATH, \"w\") as file:\n",
    "    for x in lines_split:\n",
    "        # if x[4] == \"Lateral\":\n",
    "        #     continue\n",
    "        pad_missing = []\n",
    "        for i, y in enumerate(x):\n",
    "            # Skip certain columns\n",
    "            if i in REMOVE_COLUMNS_IDXS:\n",
    "                continue\n",
    "            if y:\n",
    "                pad_missing.append(y)\n",
    "            else:\n",
    "                # Sub blank values\n",
    "                pad_missing.append(SUB_BLANK_FOR)\n",
    "        file.write(\",\".join(pad_missing) + \"\\n\")\n"
   ]
  },
  {
   "cell_type": "code",
   "execution_count": 21,
   "metadata": {},
   "outputs": [
    {
     "name": "stderr",
     "output_type": "stream",
     "text": [
      "100%|██████████| 14/14 [01:45<00:00,  7.53s/it]"
     ]
    },
    {
     "name": "stdout",
     "output_type": "stream",
     "text": [
      "[178148, 38694, 40908, 94764, 10118, 69150, 57327, 21903, 55212, 62863, 106710, 5437, 10648, 100500]\n"
     ]
    },
    {
     "name": "stderr",
     "output_type": "stream",
     "text": [
      "\n"
     ]
    }
   ],
   "source": [
    "CSV_PATH = \"train_full_nan.csv\"\n",
    "\n",
    "counts = [0 for _ in range(14)]\n",
    "\n",
    "df = pd.read_csv(CSV_PATH, header=None)\n",
    "for x in tqdm(range(14)):\n",
    "    to_write = []\n",
    "    for index, row in df.iterrows():\n",
    "        if pd.isna(row[x + 1]):\n",
    "            continue    \n",
    "        to_write.append([int(index), int(row[x + 1])])\n",
    "        counts[x] += 1\n",
    "    path = \"disease_splits/class\" + str(x) + \".npy\"\n",
    "    np.save(path, np.array(to_write))\n",
    "\n",
    "print(counts)"
   ]
  },
  {
   "cell_type": "code",
   "execution_count": 3,
   "metadata": {},
   "outputs": [
    {
     "name": "stdout",
     "output_type": "stream",
     "text": [
      "-25381.0\n",
      "54321\n",
      "38136\n",
      "-0.46724103017249313\n"
     ]
    }
   ],
   "source": [
    "CSV_PATH = \"train_frontal_nan.csv\"\n",
    "\n",
    "df = pd.read_csv(CSV_PATH, header=None)\n",
    "\n",
    "total = 0\n",
    "count = 0\n",
    "countneg = 0\n",
    "\n",
    "for index, row in df.iterrows():        \n",
    "        if row[10] in [-1, 0, 1]:\n",
    "            if row[10] == -1:\n",
    "                countneg += 1\n",
    "            total += row[10]\n",
    "            count += 1\n",
    "\n",
    "print(total)\n",
    "print(count)\n",
    "print(countneg)\n",
    "print(total / count)\n"
   ]
  },
  {
   "cell_type": "code",
   "execution_count": 17,
   "metadata": {},
   "outputs": [
    {
     "name": "stdout",
     "output_type": "stream",
     "text": [
      "4030\n"
     ]
    }
   ],
   "source": [
    "test = np.load(\"disease_splits_lateral/class7.npy\")\n",
    "print(len(test))"
   ]
  },
  {
   "cell_type": "code",
   "execution_count": 22,
   "metadata": {},
   "outputs": [
    {
     "name": "stderr",
     "output_type": "stream",
     "text": [
      "100%|██████████| 178157/178157 [55:31<00:00, 53.48it/s] \n"
     ]
    }
   ],
   "source": [
    "import os\n",
    "fidx, lidx = 0, 0\n",
    "\n",
    "for tidx, x in enumerate(tqdm(lines_split)):\n",
    "    if x[4] == \"Frontal\":\n",
    "        os.system(f\"copy D:\\\\CS156b\\\\train_frontal_npy\\\\img_{fidx}.npy D:\\\\CS156b\\\\train_full_npy\\\\{tidx}.npy\")\n",
    "        fidx += 1\n",
    "    else:\n",
    "        os.system(f\"copy D:\\\\CS156b\\\\train_lateral_npy\\\\{lidx}.npy D:\\\\CS156b\\\\train_full_npy\\\\{tidx}.npy\")\n",
    "        lidx += 1\n"
   ]
  }
 ],
 "metadata": {
  "deepnote": {},
  "deepnote_execution_queue": [],
  "deepnote_notebook_id": "04c5102f-0774-4066-b97f-782d565e3b8c",
  "interpreter": {
   "hash": "11938c6bc6919ae2720b4d5011047913343b08a43b18698fd82dedb0d4417594"
  },
  "kernelspec": {
   "display_name": "Python 3.9.0 64-bit",
   "language": "python",
   "name": "python3"
  },
  "language_info": {
   "codemirror_mode": {
    "name": "ipython",
    "version": 3
   },
   "file_extension": ".py",
   "mimetype": "text/x-python",
   "name": "python",
   "nbconvert_exporter": "python",
   "pygments_lexer": "ipython3",
   "version": "3.9.0"
  }
 },
 "nbformat": 4,
 "nbformat_minor": 4
}
