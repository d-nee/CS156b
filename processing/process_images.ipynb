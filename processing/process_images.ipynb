{
 "cells": [
  {
   "cell_type": "code",
   "execution_count": 4,
   "metadata": {},
   "outputs": [
    {
     "name": "stdout",
     "output_type": "stream",
     "text": [
      "setup done\n"
     ]
    }
   ],
   "source": [
    "import numpy as np\n",
    "from PIL import Image\n",
    "import os\n",
    "from tqdm import tqdm\n",
    "\n",
    "OUTPUT_PATH = \"/groups/CS156b/2022/team_dirs/liquid_death/train_lateral_npy/\"\n",
    "IMAGE_PATH_PREFIX = \"/groups/CS156b/data/\"\n",
    "PATHS_DATA = \"train_lateral_nan.csv\"\n",
    "\n",
    "DSIZE_DIM = 256 # Pixels\n",
    "\n",
    "print(\"setup done\")"
   ]
  },
  {
   "cell_type": "code",
   "execution_count": 6,
   "metadata": {},
   "outputs": [
    {
     "name": "stdout",
     "output_type": "stream",
     "text": [
      "['train/pid23285/study1/view1_lateral.jpg', '-1.0', '', '', '', '', '1.0', '', '', '', '', '', '', '', '1.0']\n"
     ]
    },
    {
     "name": "stderr",
     "output_type": "stream",
     "text": [
      "100%|██████████| 25860/25860 [39:19<00:00, 10.96it/s]"
     ]
    },
    {
     "name": "stdout",
     "output_type": "stream",
     "text": [
      "finished processing images\n"
     ]
    },
    {
     "name": "stderr",
     "output_type": "stream",
     "text": [
      "\n"
     ]
    }
   ],
   "source": [
    "with open(PATHS_DATA, \"r\") as file:\n",
    "    lines = file.read().split(\"\\n\")\n",
    "splitlines = [l.split(\",\") for l in lines[:-1]]\n",
    "print(splitlines[-1])\n",
    "paths = [sl[0] for sl in splitlines]\n",
    "\n",
    "for i in tqdm(range(len(paths))):\n",
    "    p = paths[i]\n",
    "    f_path = IMAGE_PATH_PREFIX + p\n",
    "    if os.path.isfile(f_path):\n",
    "        # L = store just greyscale\n",
    "        im = Image.open(f_path).convert(\"L\")\n",
    "        size = im.size\n",
    "        if size[0] >= size[1]:\n",
    "            # Width higher than height\n",
    "            diff = size[0] - size[1]\n",
    "            TOP = 0\n",
    "            BOTTOM = size[1]\n",
    "            LEFT = diff // 2\n",
    "            RIGHT = LEFT + size[1]\n",
    "        else:\n",
    "            # Height higher than width\n",
    "            diff = size[1] - size[0]\n",
    "            LEFT = 0\n",
    "            RIGHT = size[0]\n",
    "            TOP = diff // 2\n",
    "            BOTTOM = TOP + size[0]\n",
    "        # Crop\n",
    "        imc = im.crop((LEFT, TOP, RIGHT, BOTTOM))\n",
    "        # Downsample\n",
    "        imcd = imc.resize((DSIZE_DIM, DSIZE_DIM))\n",
    "        np.save(OUTPUT_PATH + str(i) + \".npy\", np.array(imcd))\n",
    "\n",
    "print(\"finished processing images\")"
   ]
  },
  {
   "cell_type": "code",
   "execution_count": null,
   "metadata": {},
   "outputs": [],
   "source": []
  }
 ],
 "metadata": {
  "kernelspec": {
   "display_name": "Python 3",
   "language": "python",
   "name": "python3"
  },
  "language_info": {
   "codemirror_mode": {
    "name": "ipython",
    "version": 3
   },
   "file_extension": ".py",
   "mimetype": "text/x-python",
   "name": "python",
   "nbconvert_exporter": "python",
   "pygments_lexer": "ipython3",
   "version": "3.7.0"
  }
 },
 "nbformat": 4,
 "nbformat_minor": 4
}
