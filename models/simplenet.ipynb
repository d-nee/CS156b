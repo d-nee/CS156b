{
 "cells": [
  {
   "cell_type": "code",
   "execution_count": 7,
   "metadata": {
    "cell_id": "d1a814e0-1f66-4d33-b399-3a5a241dbc3b",
    "deepnote_cell_height": 832.1875,
    "deepnote_cell_type": "code",
    "owner_user_id": "6bdd75dd-9ba1-41cd-bd89-a64d28b59987"
   },
   "outputs": [
    {
     "name": "stdout",
     "output_type": "stream",
     "text": [
      "Setup Done\n"
     ]
    }
   ],
   "source": [
    "import torch\n",
    "import torch.nn as nn\n",
    "import torch.nn.functional as F\n",
    "import torch.optim as optim\n",
    "import numpy as np\n",
    "from tqdm import tqdm\n",
    "from CheXpertDataset import CheXpertDataset\n",
    "\n",
    "IMG_DIR = \"/groups/CS156b/2022/team_dirs/liquid_death/train_img_npy\"\n",
    "LABEL_FILE_PATH = \"/groups/CS156b/2022/team_dirs/liquid_death/train_labels.npy\"\n",
    "STATE_DICT_PATH = \"/home/dnee/CS156b/simple_net_save.pt\"\n",
    "\n",
    "BATCH_SIZE = 4\n",
    "NUM_CORES = 8\n",
    "NUM_EPOCHS = 2\n",
    "\n",
    "DISEASES = [\n",
    "    \"No Finding\",\n",
    "    \"Enlarged Cardiomediastinum\",\n",
    "    \"Cardiomegaly\",\n",
    "    \"Lung Opacity\",\n",
    "    \"Lung Lesion\",\n",
    "    \"Edema\",\n",
    "    \"Consolidation\",\n",
    "    \"Pneumonia\",\n",
    "    \"Atelectasis\",\n",
    "    \"Pneumothorax\",\n",
    "    \"Pleural Effusion\",\n",
    "    \"Pleural Other\",\n",
    "    \"Fracture\",\n",
    "    \"Support Devices\"\n",
    "]\n",
    "\n",
    "CLASSES = [\n",
    "    \"Negative\",\n",
    "    \"Unsure\",\n",
    "    \"Positive\"\n",
    "]\n",
    "\n",
    "print(\"Setup Done\")"
   ]
  },
  {
   "cell_type": "code",
   "execution_count": null,
   "metadata": {},
   "outputs": [],
   "source": [
    "class SimpleNet(nn.Module):\n",
    "    def __init__(self):\n",
    "        super().__init__()\n",
    "        self.pool = nn.MaxPool2d(2, 2)\n",
    "        self.conv1 = nn.Conv2d(1, 32, 5)\n",
    "        self.conv2 = nn.Conv2d(32, 32, 3)\n",
    "        self.conv3 = nn.Conv2d(32, 16, 3)\n",
    "        self.fc1 = nn.Linear(6 * 6 * 16, 128)\n",
    "        self.fc2 = nn.Linear(128, 64)\n",
    "        self.fc3 = nn.Linear(64, 42)\n",
    "        self.sm = nn.Softmax(dim=1)\n",
    "    \n",
    "    def forward(self, x):\n",
    "        # Start with 1024x1024x1\n",
    "        x = self.pool(F.relu(self.conv1(x))) # Turns to 510x510x32\n",
    "        x = self.pool(F.relu(self.conv2(x))) # Turns to 254x254x32\n",
    "        x = self.pool(F.relu(self.conv2(x))) # Turns to 126x126x32\n",
    "        x = self.pool(F.relu(self.conv2(x))) # Turns to 62x62x32\n",
    "        x = self.pool(F.relu(self.conv2(x))) # Turns to 30x30x32\n",
    "        x = self.pool(F.relu(self.conv2(x))) # Turns to 14x14x32\n",
    "        x = self.pool(F.relu(self.conv3(x))) # Turns to 6X6X16\n",
    "        x = torch.flatten(x, 1) # start on dim 1\n",
    "        x = F.relu(self.fc1(x))\n",
    "        x = F.relu(self.fc2(x))\n",
    "        # reshape into 3 categories per disease\n",
    "        x = torch.reshape(self.fc3(x), (-1, 3, 14)) \n",
    "        # Softmax along dimension to normalize probabilities\n",
    "        x = self.sm(x)\n",
    "        return x"
   ]
  },
  {
   "cell_type": "code",
   "execution_count": 8,
   "metadata": {
    "cell_id": "00001-82e4a329-6305-4bc5-ad55-024c0fb9cb8f",
    "deepnote_cell_height": 402.375,
    "deepnote_cell_type": "code"
   },
   "outputs": [
    {
     "name": "stdout",
     "output_type": "stream",
     "text": [
      "Device: cuda:0\n",
      "Objects Done\n"
     ]
    }
   ],
   "source": [
    "device = torch.device('cuda:0' if torch.cuda.is_available() else 'cpu')\n",
    "print(f\"Device: {device}\")\n",
    "\n",
    "dataset = CheXpertDataset(IMG_DIR, LABEL_FILE_PATH)\n",
    "N = len(dataset)\n",
    "trainset, testset = torch.utils.data.random_split(dataset, [N - (N//5), N//5])\n",
    "\n",
    "trainloader = torch.utils.data.DataLoader(trainset, batch_size=BATCH_SIZE, shuffle=True, num_workers=NUM_CORES)\n",
    "testloader = torch.utils.data.DataLoader(testset, batch_size=BATCH_SIZE, shuffle=False, num_workers=NUM_CORES)\n",
    "\n",
    "net = SimpleNet()\n",
    "net.to(device)\n",
    "\n",
    "criterion = nn.CrossEntropyLoss(reduction=\"sum\")\n",
    "optimizer = optim.SGD(net.parameters(), lr=0.001, momentum=0.9)\n",
    "print(\"Objects Done\")"
   ]
  },
  {
   "cell_type": "code",
   "execution_count": 9,
   "metadata": {
    "cell_id": "00002-6038d4b1-3adf-4162-b2f4-2b617c795f1f",
    "deepnote_cell_height": 494.75,
    "deepnote_cell_type": "code"
   },
   "outputs": [
    {
     "name": "stderr",
     "output_type": "stream",
     "text": [
      "100%|██████████| 30460/30460 [34:26<00:00, 14.74it/s]\n",
      "100%|██████████| 30460/30460 [34:11<00:00, 14.85it/s]"
     ]
    },
    {
     "name": "stdout",
     "output_type": "stream",
     "text": [
      "Finished Training\n"
     ]
    },
    {
     "name": "stderr",
     "output_type": "stream",
     "text": [
      "\n"
     ]
    }
   ],
   "source": [
    "for epoch in range(NUM_EPOCHS):  # loop over the dataset multiple times\n",
    "    for i, data in enumerate(tqdm(trainloader)):\n",
    "        # get the inputs; data is a list of [inputs, labels]\n",
    "        inputs, targets = data[0].to(device), data[1].to(device)\n",
    "        \n",
    "        # zero the parameter gradients\n",
    "        optimizer.zero_grad()\n",
    "        \n",
    "        # forward + backward + optimize\n",
    "        outputs = net(inputs)\n",
    "        loss = criterion(outputs, targets)\n",
    "        loss.backward()\n",
    "        optimizer.step()\n",
    "\n",
    "torch.save(net.state_dict(), STATE_DICT_PATH)\n",
    "print('Finished Training')"
   ]
  },
  {
   "cell_type": "code",
   "execution_count": null,
   "metadata": {
    "cell_id": "00003-4057ce61-7dc0-4e35-b9c5-ef7d0181226d",
    "deepnote_cell_height": 264,
    "deepnote_cell_type": "code"
   },
   "outputs": [],
   "source": [
    "correct_count = [[0 for _ in CLASSES] for _ in DISEASES]\n",
    "total_count = [[0 for _ in CLASSES] for _ in DISEASES]\n",
    "with torch.no_grad():\n",
    "    for i, data in enumerate(tqdm(testloader)):\n",
    "        images, labels = data[0].to(device), data[1].to(device)\n",
    "        outputs = net(images)\n",
    "        _, preds = torch.max(outputs, 1)\n",
    "        for i in range(len(images)):\n",
    "            for j in range(len(DISEASES)):\n",
    "                if preds[i][j] == labels[i][j]:\n",
    "                    correct_count[j][labels[i][j]] += 1\n",
    "                total_count[j][labels[i][j]] += 1"
   ]
  },
  {
   "cell_type": "code",
   "execution_count": 13,
   "metadata": {
    "cell_id": "00004-41d68b61-2007-4a47-b88a-a80998f8020a",
    "deepnote_cell_height": 773,
    "deepnote_cell_type": "code"
   },
   "outputs": [
    {
     "name": "stdout",
     "output_type": "stream",
     "text": [
      "------------\n",
      "Disease No Finding: \n",
      "Class Negative: 26248 / 26248\n",
      "Class Unsure: 0 / 1353\n",
      "Class Positive: 0 / 2858\n",
      "------------\n",
      "Disease Enlarged Cardiomediastinum: \n",
      "Class Negative: 0 / 2567\n",
      "Class Unsure: 26663 / 26663\n",
      "Class Positive: 0 / 1229\n",
      "------------\n",
      "Disease Cardiomegaly: \n",
      "Class Negative: 0 / 1778\n",
      "Class Unsure: 25205 / 25205\n",
      "Class Positive: 0 / 3476\n",
      "------------\n",
      "Disease Lung Opacity: \n",
      "Class Negative: 0 / 773\n",
      "Class Unsure: 14634 / 14634\n",
      "Class Positive: 0 / 15052\n",
      "------------\n",
      "Disease Lung Lesion: \n",
      "Class Negative: 0 / 106\n",
      "Class Unsure: 29238 / 29238\n",
      "Class Positive: 0 / 1115\n",
      "------------\n",
      "Disease Edema: \n",
      "Class Negative: 0 / 2478\n",
      "Class Unsure: 20173 / 20173\n",
      "Class Positive: 0 / 7808\n",
      "------------\n",
      "Disease Consolidation: \n",
      "Class Negative: 0 / 3216\n",
      "Class Unsure: 25474 / 25474\n",
      "Class Positive: 0 / 1769\n",
      "------------\n",
      "Disease Pneumonia: \n",
      "Class Negative: 0 / 250\n",
      "Class Unsure: 29809 / 29809\n",
      "Class Positive: 0 / 400\n",
      "------------\n",
      "Disease Atelectasis: \n",
      "Class Negative: 0 / 69\n",
      "Class Unsure: 25750 / 25750\n",
      "Class Positive: 0 / 4640\n",
      "------------\n",
      "Disease Pneumothorax: \n",
      "Class Negative: 0 / 7723\n",
      "Class Unsure: 20182 / 20182\n",
      "Class Positive: 0 / 2554\n",
      "------------\n",
      "Disease Pleural Effusion: \n",
      "Class Negative: 0 / 3858\n",
      "Class Unsure: 14372 / 14372\n",
      "Class Positive: 0 / 12229\n",
      "------------\n",
      "Disease Pleural Other: \n",
      "Class Negative: 0 / 20\n",
      "Class Unsure: 30027 / 30027\n",
      "Class Positive: 0 / 412\n",
      "------------\n",
      "Disease Fracture: \n",
      "Class Negative: 0 / 365\n",
      "Class Unsure: 28971 / 28971\n",
      "Class Positive: 0 / 1123\n",
      "------------\n",
      "Disease Support Devices: \n",
      "Class Negative: 0 / 811\n",
      "Class Unsure: 12319 / 12319\n",
      "Class Positive: 0 / 17329\n"
     ]
    }
   ],
   "source": [
    "for i, d in enumerate(DISEASES):\n",
    "    print(\"------------\")\n",
    "    print(f\"Disease {d}: \")\n",
    "    for j, c in enumerate(CLASSES):\n",
    "        print(f\"Class {c}: {correct_count[i][j]} / {total_count[i][j]}\")"
   ]
  },
  {
   "cell_type": "code",
   "execution_count": null,
   "metadata": {
    "cell_id": "00005-3523f37a-9ac3-4336-999d-f9798a568540",
    "deepnote_cell_height": 66,
    "deepnote_cell_type": "code"
   },
   "outputs": [],
   "source": []
  },
  {
   "cell_type": "markdown",
   "metadata": {
    "created_in_deepnote_cell": true,
    "deepnote_cell_type": "markdown",
    "tags": []
   },
   "source": [
    "<a style='text-decoration:none;line-height:16px;display:flex;color:#5B5B62;padding:10px;justify-content:end;' href='https://deepnote.com?utm_source=created-in-deepnote-cell&projectId=9e63b1a8-baad-4be7-b61d-5ce16070297e' target=\"_blank\">\n",
    "<img alt='Created in deepnote.com' style='display:inline;max-height:16px;margin:0px;margin-right:7.5px;' src='data:image/svg+xml;base64,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' > </img>\n",
    "Created in <span style='font-weight:600;margin-left:4px;'>Deepnote</span></a>"
   ]
  }
 ],
 "metadata": {
  "deepnote": {},
  "deepnote_execution_queue": [],
  "deepnote_notebook_id": "5af7456b-f02d-4249-9f17-8a7f0a708662",
  "kernelspec": {
   "display_name": "Python 3",
   "language": "python",
   "name": "python3"
  },
  "language_info": {
   "codemirror_mode": {
    "name": "ipython",
    "version": 3
   },
   "file_extension": ".py",
   "mimetype": "text/x-python",
   "name": "python",
   "nbconvert_exporter": "python",
   "pygments_lexer": "ipython3",
   "version": "3.7.0"
  }
 },
 "nbformat": 4,
 "nbformat_minor": 4
}
