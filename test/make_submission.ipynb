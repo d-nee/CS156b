{
 "cells": [
  {
   "cell_type": "code",
   "execution_count": 1,
   "metadata": {},
   "outputs": [],
   "source": [
    "import numpy as np"
   ]
  },
  {
   "cell_type": "code",
   "execution_count": 2,
   "metadata": {},
   "outputs": [
    {
     "name": "stdout",
     "output_type": "stream",
     "text": [
      "[[-0.52541804 -0.16406229 -0.86580414  0.38231131  0.46784827 -0.56862926\n",
      "  -0.81520021 -0.22504176  0.3678956  -0.19366497 -0.8178888   0.49787405\n",
      "   0.30183432  0.81553102]\n",
      " [-0.45031318 -0.46997845 -0.83259743  0.31998602  0.41891199 -0.84024078\n",
      "  -0.70573974 -0.32096735  0.38511509 -0.63400412 -0.5996418   0.57989508\n",
      "   0.78749865  0.8475889 ]\n",
      " [-0.98349255 -0.10666317  0.45975178  0.95729148  0.83652151  0.57936621\n",
      "   0.25441563  0.0639226   0.33880398  0.29241976  0.92342198  0.50859022\n",
      "   0.72931528  0.87973154]\n",
      " [-0.96998364 -0.1720628   0.56826061  0.93608284  0.76996809  0.4923808\n",
      "   0.20210591 -0.03208915  0.4754464   0.61999482  0.86442959  0.50817233\n",
      "   0.68632013  0.90980941]\n",
      " [ 0.50254625 -0.81589985 -0.96793133  0.28305694  0.51448095 -0.80107695\n",
      "  -0.90129888 -0.03302296  0.30513906 -0.62920511 -0.87387925  0.4866946\n",
      "   0.15038759  0.71630323]]\n"
     ]
    }
   ],
   "source": [
    "DISEASES = [\n",
    "    \"No Finding\",\n",
    "    \"Enlarged Cardiomediastinum\",\n",
    "    \"Cardiomegaly\",\n",
    "    \"Lung Opacity\",\n",
    "    \"Lung Lesion\",\n",
    "    \"Edema\",\n",
    "    \"Consolidation\",\n",
    "    \"Pneumonia\",\n",
    "    \"Atelectasis\",\n",
    "    \"Pneumothorax\",\n",
    "    \"Pleural Effusion\",\n",
    "    \"Pleural Other\",\n",
    "    \"Fracture\",\n",
    "    \"Support Devices\"\n",
    "]\n",
    "\n",
    "with open(\"D:\\\\CS156b\\\\solution_ids.csv\", \"r\") as file:\n",
    "    test_lines = file.read().split('\\n')\n",
    "lines_split = [x.split(\",\")[0] for x in test_lines[1:]]\n",
    "\n",
    "n_test = len(lines_split)\n",
    "\n",
    "labels = np.load(\"D:\\\\CS156b\\\\final_submission.npy\")\n",
    "assert(len(labels) == n_test)\n",
    "\n",
    "print(labels[0:5])"
   ]
  },
  {
   "cell_type": "code",
   "execution_count": 3,
   "metadata": {},
   "outputs": [],
   "source": [
    "for l in labels:\n",
    "    for sl in l:\n",
    "        if sl < -1 or sl > 1:\n",
    "            print(\"ERROR\")"
   ]
  },
  {
   "cell_type": "code",
   "execution_count": 24,
   "metadata": {
    "cell_id": "00008-a71f4bd3-ab65-4b85-a9e0-e8a16da92569",
    "deepnote_cell_type": "code"
   },
   "outputs": [],
   "source": [
    "for l in labels:\n",
    "    l[11] = .515"
   ]
  },
  {
   "cell_type": "code",
   "execution_count": 4,
   "metadata": {},
   "outputs": [
    {
     "name": "stdout",
     "output_type": "stream",
     "text": [
      "Done Writing\n"
     ]
    }
   ],
   "source": [
    "with open(\"D:\\\\CS156b\\\\final_submission.csv\", \"w\") as file:\n",
    "    file.write(\"Id,\")\n",
    "    file.write(\",\".join(DISEASES) + \"\\n\")\n",
    "    for i, l in enumerate(labels):\n",
    "        floats = \",\".join([\"{:.3f}\".format(x) for x in l.tolist()])\n",
    "        file.write(f\"{lines_split[i]},{floats}\\n\")\n",
    "\n",
    "print(\"Done Writing\")"
   ]
  }
 ],
 "metadata": {
  "deepnote": {},
  "deepnote_execution_queue": [],
  "deepnote_notebook_id": "9f918af4-0a93-4376-a11e-a771a9f80a0a",
  "interpreter": {
   "hash": "5190a61440cec77bceec7b8ea3530ec7ef9f651661115b61fd21260409f55629"
  },
  "kernelspec": {
   "display_name": "Python 3.9.0 64-bit",
   "language": "python",
   "name": "python3"
  },
  "language_info": {
   "codemirror_mode": {
    "name": "ipython",
    "version": 3
   },
   "file_extension": ".py",
   "mimetype": "text/x-python",
   "name": "python",
   "nbconvert_exporter": "python",
   "pygments_lexer": "ipython3",
   "version": "3.9.0"
  }
 },
 "nbformat": 4,
 "nbformat_minor": 4
}
